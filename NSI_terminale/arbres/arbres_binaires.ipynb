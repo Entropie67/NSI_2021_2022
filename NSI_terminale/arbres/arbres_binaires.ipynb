{
 "cells": [
  {
   "cell_type": "markdown",
   "id": "b21eb259",
   "metadata": {},
   "source": [
    "Exemple d'utilisation des properties"
   ]
  },
  {
   "cell_type": "code",
   "execution_count": 12,
   "id": "b0bc2761",
   "metadata": {},
   "outputs": [
    {
     "name": "stdout",
     "output_type": "stream",
     "text": [
      "Dupont\n",
      "truc\n"
     ]
    }
   ],
   "source": [
    "class Eleve:\n",
    "    def __init__(self, nom, prenom, age):\n",
    "        self._nom = nom\n",
    "        self._prenom = prenom\n",
    "        self._age = age\n",
    "        \n",
    "    @property\n",
    "    def nom(self):\n",
    "        return self._nom\n",
    "    \n",
    "    @nom.setter\n",
    "    def nom(self, nom):\n",
    "        self._nom = nom\n",
    "    \n",
    "    \n",
    "bob = Eleve(\"Dupont\", \"Bob\", 47)\n",
    "print(bob.nom)\n",
    "bob.nom = \"truc\"\n",
    "print(bob.nom)"
   ]
  },
  {
   "cell_type": "code",
   "execution_count": 26,
   "id": "8d78b325",
   "metadata": {},
   "outputs": [
    {
     "name": "stdout",
     "output_type": "stream",
     "text": [
      "2\n",
      "2\n",
      "4\n",
      "2\n"
     ]
    },
    {
     "data": {
      "text/plain": [
       "0"
      ]
     },
     "execution_count": 26,
     "metadata": {},
     "output_type": "execute_result"
    }
   ],
   "source": [
    "class BinTree:\n",
    "    \n",
    "    def __init__(self, data, left=None, right=None):\n",
    "        self._data = data\n",
    "        self._left = left\n",
    "        self._right = right\n",
    "        \n",
    "    @property    \n",
    "    def left(self):\n",
    "        return self._left\n",
    "    \n",
    "    @left.setter\n",
    "    def left(self, value):\n",
    "        self._left = value\n",
    "        \n",
    "    @property    \n",
    "    def right(self):\n",
    "        return self._right\n",
    "    \n",
    "    @right.setter\n",
    "    def right(self, value):\n",
    "        self._right = value\n",
    "        \n",
    "    @property    \n",
    "    def data(self):\n",
    "        return self._data\n",
    "    \n",
    "    @data.setter\n",
    "    def data(self, value):\n",
    "        self._data = value\n",
    "        \n",
    "    def __len__(self) -> int:\n",
    "        \"\"\"\n",
    "            len sur un objet de type BinTree retourne la\n",
    "            taille de l'arbre, le nombre de noeuds total\n",
    "        \"\"\"\n",
    "        s = 1\n",
    "        for child in (self._left, self._right):\n",
    "            if child is not None:\n",
    "                s += len(child)\n",
    "                print(s)\n",
    "        return s\n",
    "    \n",
    "    def hauteur(self):\n",
    "        if not self._left and not self._right:\n",
    "            return 0\n",
    "        else:\n",
    "            return 1 + max(self._left.hauteur() if self._left else 0, self._right.hauteur()if self._right else 0)\n",
    "    \n",
    "\n",
    "a = BinTree(\"a\")\n",
    "c = BinTree(\"c\")\n",
    "b = BinTree(\"b\", c)\n",
    "arbre = BinTree(\"racine\", a, b)\n",
    "len(arbre)\n",
    "a.hauteur()\n",
    "b.hauteur()\n",
    "arbre.hauteur()\n",
    "c.hauteur()\n",
    "    "
   ]
  },
  {
   "cell_type": "code",
   "execution_count": null,
   "id": "265eb7d8",
   "metadata": {},
   "outputs": [],
   "source": []
  }
 ],
 "metadata": {
  "kernelspec": {
   "display_name": "Python 3",
   "language": "python",
   "name": "python3"
  },
  "language_info": {
   "codemirror_mode": {
    "name": "ipython",
    "version": 3
   },
   "file_extension": ".py",
   "mimetype": "text/x-python",
   "name": "python",
   "nbconvert_exporter": "python",
   "pygments_lexer": "ipython3",
   "version": "3.8.8"
  }
 },
 "nbformat": 4,
 "nbformat_minor": 5
}
