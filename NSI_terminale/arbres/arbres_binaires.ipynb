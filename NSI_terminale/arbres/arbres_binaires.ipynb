{
 "cells": [
  {
   "cell_type": "markdown",
   "id": "b21eb259",
   "metadata": {},
   "source": [
    "Exemple d'utilisation des properties"
   ]
  },
  {
   "cell_type": "code",
   "execution_count": 12,
   "id": "b0bc2761",
   "metadata": {},
   "outputs": [
    {
     "name": "stdout",
     "output_type": "stream",
     "text": [
      "Dupont\n",
      "truc\n"
     ]
    }
   ],
   "source": [
    "class Eleve:\n",
    "    def __init__(self, nom, prenom, age):\n",
    "        self._nom = nom\n",
    "        self._prenom = prenom\n",
    "        self._age = age\n",
    "        \n",
    "    @property\n",
    "    def nom(self):\n",
    "        return self._nom\n",
    "    \n",
    "    @nom.setter\n",
    "    def nom(self, nom):\n",
    "        self._nom = nom\n",
    "    \n",
    "    \n",
    "bob = Eleve(\"Dupont\", \"Bob\", 47)\n",
    "print(bob.nom)\n",
    "bob.nom = \"truc\"\n",
    "print(bob.nom)"
   ]
  },
  {
   "cell_type": "code",
   "execution_count": 36,
   "id": "8d78b325",
   "metadata": {},
   "outputs": [
    {
     "name": "stdout",
     "output_type": "stream",
     "text": [
      "<class '__main__.BinTree'>\n",
      "<class '__main__.BinTree'>\n",
      "D\n",
      "F\n"
     ]
    }
   ],
   "source": [
    "class BinTree:\n",
    "    \"\"\"\n",
    "        Classe implémentant la structure d'arbre binaire\n",
    "    \"\"\"\n",
    "    def __init__(self, data):\n",
    "        self._data = data\n",
    "        self._left = None\n",
    "        self._right = None\n",
    "        \n",
    "    @property    \n",
    "    def left(self):\n",
    "        \"\"\"\n",
    "            Donne le fils de gauche\n",
    "        \"\"\"\n",
    "        return self._left\n",
    "    \n",
    "    @left.setter\n",
    "    def left(self, value):\n",
    "        \"\"\"\n",
    "            Ajoute un fil à gauche du noeud courant.\n",
    "        \"\"\"\n",
    "        if self._left == None:\n",
    "            self._left = value\n",
    "        else:\n",
    "            new_tree = BinTree(value)\n",
    "            new_tree._left = self._left\n",
    "            self._left = new_tree\n",
    "    @property    \n",
    "    def right(self):\n",
    "        \"\"\"\n",
    "            Donne le fils de droite\n",
    "        \"\"\"\n",
    "        return self._right\n",
    "    \n",
    "    @right.setter\n",
    "    def right(self, value):\n",
    "        \"\"\"\n",
    "            Ajoute un fils à droite du noeud courant\n",
    "        \"\"\"\n",
    "        if self.right == None:\n",
    "            self._right = value\n",
    "        else:\n",
    "            new_tree = BinTree(value)\n",
    "            new_tree._right = self._right\n",
    "            self._right = new_tree\n",
    "        \n",
    "    @property    \n",
    "    def data(self):\n",
    "        return self._data\n",
    "    \n",
    "    @data.setter\n",
    "    def data(self, value):\n",
    "        self._data = value\n",
    "        \n",
    "    def __len__(self) -> int:\n",
    "        \"\"\"\n",
    "            len sur un objet de type BinTree retourne la\n",
    "            taille de l'arbre, le nombre de noeuds total\n",
    "        \"\"\"\n",
    "        s = 1\n",
    "        for child in (self._left, self._right):\n",
    "            if child is not None:\n",
    "                s += len(child)\n",
    "                print(s)\n",
    "        return s\n",
    "    \n",
    "    def hauteur(self):\n",
    "        if not self._left and not self._right:\n",
    "            return 0\n",
    "        else:\n",
    "            return 1 + max(self._left.hauteur() if self._left else 0, self._right.hauteur()if self._right else 0)\n",
    "\n",
    "    def __str__(self):\n",
    "        return self._data\n",
    "   "
   ]
  },
  {
   "attachments": {
    "image.png": {
     "image/png": "[encoded data removed]"
    }
   },
   "cell_type": "markdown",
   "id": "9ba0101e",
   "metadata": {},
   "source": [
    "![image.png](attachment:image.png)\n",
    "    "
   ]
  },
  {
   "cell_type": "code",
   "execution_count": null,
   "id": "776683a3",
   "metadata": {},
   "outputs": [],
   "source": [
    "# Création de l'arbre 1   \n",
    "racine = BinTree(\"A\")\n",
    "racine.right = BinTree(\"F\")\n",
    "racine.left = BinTree(\"B\")\n",
    "racine.left.right = BinTree(\"D\")\n",
    "print(racine.left.right)\n",
    "\"\"\"\n",
    "racine.left = 'C'\n",
    "\n",
    "node = racine.right\n",
    "node.right = 'H'\n",
    "racine.left = 'G'\n",
    "\"\"\"\n",
    "print(racine.right)"
   ]
  },
  {
   "cell_type": "code",
   "execution_count": 16,
   "id": "265eb7d8",
   "metadata": {},
   "outputs": [],
   "source": [
    "# Parcours en largeur \n",
    "# https://fr.wikipedia.org/wiki/Algorithme_de_parcours_en_largeur\n",
    "from collections import deque\n",
    "def bfs(arbre: BinTree, sommet: BinTree) -> list:\n",
    "    visited = deque()\n",
    "    file = deque()\n",
    "    file.append(sommet)\n",
    "    while file:\n",
    "        u = file.popleft()\n",
    "        print(u, end(\" -> \"))\n",
    "        for voisin in arbre:\n",
    "            if voisin not in visited:\n",
    "                visited.append(voisin)\n",
    "                file.append(voisin)\n",
    "bfs(arbre, a)"
   ]
  },
  {
   "cell_type": "code",
   "execution_count": 17,
   "id": "154f367d",
   "metadata": {},
   "outputs": [
    {
     "name": "stdout",
     "output_type": "stream",
     "text": [
      "deque([2, 3, 5, 7, 1, 42])\n",
      "deque([3, 5, 7, 1, 42])\n"
     ]
    }
   ],
   "source": [
    "from collections import deque\n",
    "file = deque([2, 3, 5, 7, 1])\n",
    "file.append(42)\n",
    "print(file)\n",
    "file.popleft()\n",
    "print(file)"
   ]
  },
  {
   "cell_type": "code",
   "execution_count": 20,
   "id": "0afc54e0",
   "metadata": {},
   "outputs": [
    {
     "name": "stdout",
     "output_type": "stream",
     "text": [
      "coucou\n"
     ]
    }
   ],
   "source": [
    "if deque([3]):\n",
    "    print(\"coucou\")"
   ]
  },
  {
   "cell_type": "code",
   "execution_count": 5,
   "id": "d010d5c0",
   "metadata": {},
   "outputs": [
    {
     "name": "stdout",
     "output_type": "stream",
     "text": [
      "deque([2, 3, 5, 7, 1, 42])\n"
     ]
    }
   ],
   "source": []
  },
  {
   "cell_type": "code",
   "execution_count": 15,
   "id": "78deb7c9",
   "metadata": {},
   "outputs": [
    {
     "data": {
      "text/plain": [
       "dict"
      ]
     },
     "execution_count": 15,
     "metadata": {},
     "output_type": "execute_result"
    }
   ],
   "source": [
    "type({2: \"g\"})"
   ]
  },
  {
   "cell_type": "code",
   "execution_count": 7,
   "id": "84393d82",
   "metadata": {},
   "outputs": [
    {
     "name": "stdout",
     "output_type": "stream",
     "text": [
      "deque([3, 5, 7, 1, 42])\n"
     ]
    }
   ],
   "source": []
  },
  {
   "cell_type": "code",
   "execution_count": null,
   "id": "4424cf50",
   "metadata": {},
   "outputs": [],
   "source": []
  }
 ],
 "metadata": {
  "kernelspec": {
   "display_name": "Python 3",
   "language": "python",
   "name": "python3"
  },
  "language_info": {
   "codemirror_mode": {
    "name": "ipython",
    "version": 3
   },
   "file_extension": ".py",
   "mimetype": "text/x-python",
   "name": "python",
   "nbconvert_exporter": "python",
   "pygments_lexer": "ipython3",
   "version": "3.8.8"
  }
 },
 "nbformat": 4,
 "nbformat_minor": 5
}
