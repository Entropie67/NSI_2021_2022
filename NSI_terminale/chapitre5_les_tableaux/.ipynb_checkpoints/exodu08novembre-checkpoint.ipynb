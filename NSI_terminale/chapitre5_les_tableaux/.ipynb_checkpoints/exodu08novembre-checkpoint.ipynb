{
 "cells": [
  {
   "cell_type": "markdown",
   "id": "5abe52e2",
   "metadata": {},
   "source": [
    "# Chapitre 5 : Les tableaux\n"
   ]
  },
  {
   "cell_type": "code",
   "execution_count": 18,
   "id": "b5521747",
   "metadata": {},
   "outputs": [],
   "source": [
    "# Exercice 3 page 96\n",
    "def m_l(m: list, i: int) -> list:\n",
    "    \"\"\"\n",
    "        Donne la ligne numéro i \n",
    "        de la matrice m, None si la ligne\n",
    "        n'existe pas\n",
    "    \"\"\"\n",
    "    if len(m) > i:\n",
    "        return m[i]\n",
    "    else:\n",
    "        return None\n",
    "\n",
    "m_l([[\"a\", \"b\"], [\"d\", \"z\"]], 3)"
   ]
  },
  {
   "cell_type": "code",
   "execution_count": null,
   "id": "75c0af84",
   "metadata": {},
   "outputs": [],
   "source": [
    "#version une ligne facultative :\n",
    "m_l = lambda m, i: m[i] if i < len(i) else None"
   ]
  },
  {
   "cell_type": "code",
   "execution_count": 26,
   "id": "d07d1618",
   "metadata": {},
   "outputs": [
    {
     "name": "stdout",
     "output_type": "stream",
     "text": [
      "0 -> somme = 0 + 1\n",
      "1 -> somme = 1 + 3\n",
      "2 -> somme = 4 + 5\n",
      "3 -> somme = 9 + 7\n",
      "4 -> somme = 16 + 9\n"
     ]
    },
    {
     "data": {
      "text/plain": [
       "25"
      ]
     },
     "execution_count": 26,
     "metadata": {},
     "output_type": "execute_result"
    }
   ],
   "source": [
    "# 5 page 96\n",
    "def somme(tableau: list) -> int:\n",
    "    \"\"\"\n",
    "        Donne la somme des élèments \n",
    "        d'un tableau\n",
    "    \"\"\"\n",
    "    somme = 0 \n",
    "    for i in range(len(tableau)):\n",
    "        print(f\"{i} -> somme = {somme} + {tableau[i]}\")\n",
    "        somme = somme + tableau[i]\n",
    "    return somme\n",
    "somme([1, 3, 5, 7, 9]) "
   ]
  },
  {
   "cell_type": "code",
   "execution_count": 27,
   "id": "d15f3735",
   "metadata": {},
   "outputs": [],
   "source": [
    "# 7 page 96\n",
    "def minimum(tableau: list) -> int:\n",
    "    \"\"\"\n",
    "        Donne le plus petit élément du\n",
    "        tableau\n",
    "    \"\"\"\n",
    "    plus_petit = tableau[0]\n",
    "    for elt in tableau:\n",
    "        if elt < plus_petit:\n",
    "            plus_petit = elt\n",
    "    return plus_petit"
   ]
  },
  {
   "cell_type": "code",
   "execution_count": 46,
   "id": "22f17c9d",
   "metadata": {},
   "outputs": [
    {
     "data": {
      "text/plain": [
       "[(0, 0),\n",
       " (0, 1),\n",
       " (0, 3),\n",
       " (1, 1),\n",
       " (1, 3),\n",
       " (2, 0),\n",
       " (2, 3),\n",
       " (3, 1),\n",
       " (3, 3),\n",
       " (4, 0),\n",
       " (4, 3)]"
      ]
     },
     "execution_count": 46,
     "metadata": {},
     "output_type": "execute_result"
    }
   ],
   "source": [
    "# Exercice 8 page 96\n",
    "# a)\n",
    "def trouve(table: list, v: any) -> list:\n",
    "    \"\"\"\n",
    "        Donne la liste des indices des occurences\n",
    "        de v.\n",
    "    \"\"\"\n",
    "    indices_occurences = []\n",
    "    for i in range(len(table)):\n",
    "        if table[i] == v:\n",
    "            indices_occurences.append(i)\n",
    "    return indices_occurences\n",
    "\n",
    "# b)\n",
    "def compte(t: list, elt: any) -> int:\n",
    "    \"\"\"\n",
    "        Donne le nombre de fois où elt est \n",
    "        présent dans t.\n",
    "    \"\"\"\n",
    "    return len(trouve(t, elt)) # On utilise juste la taille de la liste d'indice\n",
    "trouve([0, 1, 0, 1, 3, 4, 0], 0)\n",
    "\n",
    "# c) Même question mais avec une matrice.\n",
    "\n",
    "def compte_2D(m: list, elt: any) -> list:\n",
    "    liste_occurences = []\n",
    "    for i in range(len(m)):\n",
    "        temp = trouve(m[i], elt)\n",
    "        liste_occurences.extend(list(zip([i for _ in range(len(temp))], temp)))\n",
    "    return liste_occurences\n",
    "\n",
    "matrice = [ \n",
    "    [1, 1, 3, 1],\n",
    "    [9, 1, 3, 1],\n",
    "    [1, 8, 3, 1],\n",
    "    [6, 1, 3, 1],\n",
    "    [1, 10, 3, 1],\n",
    "    ]\n",
    "\n",
    "compte_2D(matrice, 1)\n"
   ]
  },
  {
   "cell_type": "code",
   "execution_count": 50,
   "id": "2a41a650",
   "metadata": {},
   "outputs": [
    {
     "data": {
      "text/plain": [
       "True"
      ]
     },
     "execution_count": 50,
     "metadata": {},
     "output_type": "execute_result"
    }
   ],
   "source": [
    "# Exercice 9 page 96\n",
    "# range(debut, fin-1, pas)\n",
    "[x * x for x in range(6, -1, -2)] == [x * x for x in range(6, -1, -1) if x % 2 == 0]"
   ]
  },
  {
   "cell_type": "code",
   "execution_count": 48,
   "id": "ba3987b9",
   "metadata": {},
   "outputs": [
    {
     "name": "stdout",
     "output_type": "stream",
     "text": [
      "Help on class range in module builtins:\n",
      "\n",
      "class range(object)\n",
      " |  range(stop) -> range object\n",
      " |  range(start, stop[, step]) -> range object\n",
      " |  \n",
      " |  Return an object that produces a sequence of integers from start (inclusive)\n",
      " |  to stop (exclusive) by step.  range(i, j) produces i, i+1, i+2, ..., j-1.\n",
      " |  start defaults to 0, and stop is omitted!  range(4) produces 0, 1, 2, 3.\n",
      " |  These are exactly the valid indices for a list of 4 elements.\n",
      " |  When step is given, it specifies the increment (or decrement).\n",
      " |  \n",
      " |  Methods defined here:\n",
      " |  \n",
      " |  __bool__(self, /)\n",
      " |      self != 0\n",
      " |  \n",
      " |  __contains__(self, key, /)\n",
      " |      Return key in self.\n",
      " |  \n",
      " |  __eq__(self, value, /)\n",
      " |      Return self==value.\n",
      " |  \n",
      " |  __ge__(self, value, /)\n",
      " |      Return self>=value.\n",
      " |  \n",
      " |  __getattribute__(self, name, /)\n",
      " |      Return getattr(self, name).\n",
      " |  \n",
      " |  __getitem__(self, key, /)\n",
      " |      Return self[key].\n",
      " |  \n",
      " |  __gt__(self, value, /)\n",
      " |      Return self>value.\n",
      " |  \n",
      " |  __hash__(self, /)\n",
      " |      Return hash(self).\n",
      " |  \n",
      " |  __iter__(self, /)\n",
      " |      Implement iter(self).\n",
      " |  \n",
      " |  __le__(self, value, /)\n",
      " |      Return self<=value.\n",
      " |  \n",
      " |  __len__(self, /)\n",
      " |      Return len(self).\n",
      " |  \n",
      " |  __lt__(self, value, /)\n",
      " |      Return self<value.\n",
      " |  \n",
      " |  __ne__(self, value, /)\n",
      " |      Return self!=value.\n",
      " |  \n",
      " |  __reduce__(...)\n",
      " |      Helper for pickle.\n",
      " |  \n",
      " |  __repr__(self, /)\n",
      " |      Return repr(self).\n",
      " |  \n",
      " |  __reversed__(...)\n",
      " |      Return a reverse iterator.\n",
      " |  \n",
      " |  count(...)\n",
      " |      rangeobject.count(value) -> integer -- return number of occurrences of value\n",
      " |  \n",
      " |  index(...)\n",
      " |      rangeobject.index(value) -> integer -- return index of value.\n",
      " |      Raise ValueError if the value is not present.\n",
      " |  \n",
      " |  ----------------------------------------------------------------------\n",
      " |  Static methods defined here:\n",
      " |  \n",
      " |  __new__(*args, **kwargs) from builtins.type\n",
      " |      Create and return a new object.  See help(type) for accurate signature.\n",
      " |  \n",
      " |  ----------------------------------------------------------------------\n",
      " |  Data descriptors defined here:\n",
      " |  \n",
      " |  start\n",
      " |  \n",
      " |  step\n",
      " |  \n",
      " |  stop\n",
      "\n"
     ]
    }
   ],
   "source": [
    "help(range)"
   ]
  },
  {
   "cell_type": "code",
   "execution_count": null,
   "id": "a3a6b822",
   "metadata": {},
   "outputs": [],
   "source": []
  }
 ],
 "metadata": {
  "kernelspec": {
   "display_name": "Python 3",
   "language": "python",
   "name": "python3"
  },
  "language_info": {
   "codemirror_mode": {
    "name": "ipython",
    "version": 3
   },
   "file_extension": ".py",
   "mimetype": "text/x-python",
   "name": "python",
   "nbconvert_exporter": "python",
   "pygments_lexer": "ipython3",
   "version": "3.8.8"
  }
 },
 "nbformat": 4,
 "nbformat_minor": 5
}
