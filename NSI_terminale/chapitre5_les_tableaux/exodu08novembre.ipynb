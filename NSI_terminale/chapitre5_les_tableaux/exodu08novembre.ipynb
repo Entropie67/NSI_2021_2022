{
 "cells": [
  {
   "cell_type": "markdown",
   "id": "d5bf8563",
   "metadata": {},
   "source": [
    "# Chapitre 5 : Les tableaux\n"
   ]
  },
  {
   "cell_type": "code",
   "execution_count": 18,
   "id": "c38c7e1c",
   "metadata": {},
   "outputs": [],
   "source": [
    "# Exercice 3 page 96\n",
    "def m_l(m: list, i: int) -> list:\n",
    "    \"\"\"\n",
    "        Donne la ligne numéro i \n",
    "        de la matrice m, None si la ligne\n",
    "        n'existe pas\n",
    "    \"\"\"\n",
    "    if len(m) > i:\n",
    "        return m[i]\n",
    "    else:\n",
    "        return None\n",
    "\n",
    "m_l([[\"a\", \"b\"], [\"d\", \"z\"]], 3)"
   ]
  },
  {
   "cell_type": "code",
   "execution_count": null,
   "id": "2461b7d5",
   "metadata": {},
   "outputs": [],
   "source": [
    "#version une ligne facultative :\n",
    "m_l = lambda m, i: m[i] if i < len(i) else None"
   ]
  },
  {
   "cell_type": "code",
   "execution_count": 26,
   "id": "8bbf21ae",
   "metadata": {},
   "outputs": [
    {
     "name": "stdout",
     "output_type": "stream",
     "text": [
      "0 -> somme = 0 + 1\n",
      "1 -> somme = 1 + 3\n",
      "2 -> somme = 4 + 5\n",
      "3 -> somme = 9 + 7\n",
      "4 -> somme = 16 + 9\n"
     ]
    },
    {
     "data": {
      "text/plain": [
       "25"
      ]
     },
     "execution_count": 26,
     "metadata": {},
     "output_type": "execute_result"
    }
   ],
   "source": [
    "# 5 page 96\n",
    "def somme(tableau: list) -> int:\n",
    "    \"\"\"\n",
    "        Donne la somme des élèments \n",
    "        d'un tableau\n",
    "    \"\"\"\n",
    "    somme = 0 \n",
    "    for i in range(len(tableau)):\n",
    "        print(f\"{i} -> somme = {somme} + {tableau[i]}\")\n",
    "        somme = somme + tableau[i]\n",
    "    return somme\n",
    "somme([1, 3, 5, 7, 9]) "
   ]
  },
  {
   "cell_type": "code",
   "execution_count": 27,
   "id": "c88de754",
   "metadata": {},
   "outputs": [],
   "source": [
    "# 7 page 96\n",
    "def minimum(tableau: list) -> int:\n",
    "    \"\"\"\n",
    "        Donne le plus petit élément du\n",
    "        tableau\n",
    "    \"\"\"\n",
    "    plus_petit = tableau[0]\n",
    "    for elt in tableau:\n",
    "        if elt < plus_petit:\n",
    "            plus_petit = elt\n",
    "    return plus_petit"
   ]
  },
  {
   "cell_type": "code",
   "execution_count": 46,
   "id": "b7fb2aca",
   "metadata": {},
   "outputs": [
    {
     "data": {
      "text/plain": [
       "[(0, 0),\n",
       " (0, 1),\n",
       " (0, 3),\n",
       " (1, 1),\n",
       " (1, 3),\n",
       " (2, 0),\n",
       " (2, 3),\n",
       " (3, 1),\n",
       " (3, 3),\n",
       " (4, 0),\n",
       " (4, 3)]"
      ]
     },
     "execution_count": 46,
     "metadata": {},
     "output_type": "execute_result"
    }
   ],
   "source": [
    "# Exercice 8 page 96\n",
    "# a)\n",
    "def trouve(table: list, v: any) -> list:\n",
    "    \"\"\"\n",
    "        Donne la liste des indices des occurences\n",
    "        de v.\n",
    "    \"\"\"\n",
    "    indices_occurences = []\n",
    "    for i in range(len(table)):\n",
    "        if table[i] == v:\n",
    "            indices_occurences.append(i)\n",
    "    return indices_occurences\n",
    "\n",
    "# b)\n",
    "def compte(t: list, elt: any) -> int:\n",
    "    \"\"\"\n",
    "        Donne le nombre de fois où elt est \n",
    "        présent dans t.\n",
    "    \"\"\"\n",
    "    return len(trouve(t, elt)) # On utilise juste la taille de la liste d'indice\n",
    "trouve([0, 1, 0, 1, 3, 4, 0], 0)\n",
    "\n",
    "# c) Même question mais avec une matrice.\n",
    "\n",
    "def compte_2D(m: list, elt: any) -> list:\n",
    "    liste_occurences = []\n",
    "    for i in range(len(m)):\n",
    "        temp = trouve(m[i], elt)\n",
    "        liste_occurences.extend(list(zip([i for _ in range(len(temp))], temp)))\n",
    "    return liste_occurences\n",
    "\n",
    "matrice = [ \n",
    "    [1, 1, 3, 1],\n",
    "    [9, 1, 3, 1],\n",
    "    [1, 8, 3, 1],\n",
    "    [6, 1, 3, 1],\n",
    "    [1, 10, 3, 1],\n",
    "    ]\n",
    "\n",
    "compte_2D(matrice, 1)\n"
   ]
  },
  {
   "cell_type": "code",
   "execution_count": 50,
   "id": "31cba37e",
   "metadata": {},
   "outputs": [
    {
     "data": {
      "text/plain": [
       "True"
      ]
     },
     "execution_count": 50,
     "metadata": {},
     "output_type": "execute_result"
    }
   ],
   "source": [
    "# Exercice 9 page 96\n",
    "# range(debut, fin-1, pas)\n",
    "[x * x for x in range(6, -1, -2)] == [x * x for x in range(6, -1, -1) if x % 2 == 0]"
   ]
  },
  {
   "cell_type": "code",
   "execution_count": null,
   "id": "a52504b2",
   "metadata": {},
   "outputs": [],
   "source": []
  },
  {
   "cell_type": "code",
   "execution_count": null,
   "id": "8943c65a",
   "metadata": {},
   "outputs": [],
   "source": []
  }
 ],
 "metadata": {
  "kernelspec": {
   "display_name": "Python 3",
   "language": "python",
   "name": "python3"
  },
  "language_info": {
   "codemirror_mode": {
    "name": "ipython",
    "version": 3
   },
   "file_extension": ".py",
   "mimetype": "text/x-python",
   "name": "python",
   "nbconvert_exporter": "python",
   "pygments_lexer": "ipython3",
   "version": "3.8.8"
  }
 },
 "nbformat": 4,
 "nbformat_minor": 5
}
