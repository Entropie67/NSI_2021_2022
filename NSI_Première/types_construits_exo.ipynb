{
 "cells": [
  {
   "cell_type": "markdown",
   "id": "cb396dc0",
   "metadata": {},
   "source": [
    "### Exercice :\n",
    "- QCM page 71\n",
    "- 1, 3, 6, 10, 13, 14 page 74\n",
    "- 15, 18, 19, 20 page 75\n",
    "- 21, 27, 30 et 39 page 77 et 78"
   ]
  },
  {
   "cell_type": "markdown",
   "id": "078d0122",
   "metadata": {},
   "source": [
    "<h4>QCM page 71</h4>"
   ]
  },
  {
   "cell_type": "code",
   "execution_count": 5,
   "id": "8513abca",
   "metadata": {},
   "outputs": [
    {
     "name": "stdout",
     "output_type": "stream",
     "text": [
      "a = 20, b = 10\n"
     ]
    }
   ],
   "source": [
    "# 1\n",
    "a = 10\n",
    "b = 20\n",
    "a, b = (b, a)\n",
    "print(f\"a = {a}, b = {b}\")\n",
    "# Réponse C"
   ]
  },
  {
   "cell_type": "code",
   "execution_count": 2,
   "id": "18e7d6d3",
   "metadata": {},
   "outputs": [
    {
     "data": {
      "text/plain": [
       "20"
      ]
     },
     "execution_count": 2,
     "metadata": {},
     "output_type": "execute_result"
    }
   ],
   "source": [
    "# 2\n",
    "# Réponse: b, e, f,"
   ]
  },
  {
   "cell_type": "code",
   "execution_count": 7,
   "id": "4301aaf8",
   "metadata": {},
   "outputs": [
    {
     "data": {
      "text/plain": [
       "tuple"
      ]
     },
     "execution_count": 7,
     "metadata": {},
     "output_type": "execute_result"
    }
   ],
   "source": [
    "type((5,))"
   ]
  },
  {
   "cell_type": "code",
   "execution_count": 2,
   "id": "61617983",
   "metadata": {},
   "outputs": [
    {
     "name": "stdout",
     "output_type": "stream",
     "text": [
      "31\n"
     ]
    }
   ],
   "source": [
    "# 3 \n",
    "x, y = ((12, \"31\"), [False])\n",
    "(u, v) = x\n",
    "a = (v)\n",
    "print(a)"
   ]
  },
  {
   "cell_type": "code",
   "execution_count": 10,
   "id": "436b2bc4",
   "metadata": {},
   "outputs": [
    {
     "ename": "KeyError",
     "evalue": "0",
     "output_type": "error",
     "traceback": [
      "\u001b[1;31m---------------------------------------------------------------------------\u001b[0m",
      "\u001b[1;31mKeyError\u001b[0m                                  Traceback (most recent call last)",
      "\u001b[1;32m<ipython-input-10-08af5c3a64e4>\u001b[0m in \u001b[0;36m<module>\u001b[1;34m\u001b[0m\n\u001b[0;32m      3\u001b[0m     \u001b[1;33m{\u001b[0m\u001b[1;34m'2'\u001b[0m\u001b[1;33m:\u001b[0m\u001b[1;36m2\u001b[0m\u001b[1;33m,\u001b[0m \u001b[1;34m'1'\u001b[0m\u001b[1;33m:\u001b[0m \u001b[1;36m1\u001b[0m\u001b[1;33m,\u001b[0m \u001b[1;34m'0'\u001b[0m\u001b[1;33m:\u001b[0m\u001b[1;36m0\u001b[0m\u001b[1;33m}\u001b[0m\u001b[1;33m\u001b[0m\u001b[1;33m\u001b[0m\u001b[0m\n\u001b[0;32m      4\u001b[0m ]\n\u001b[1;32m----> 5\u001b[1;33m \u001b[0ma\u001b[0m \u001b[1;33m=\u001b[0m \u001b[1;33m(\u001b[0m\u001b[0mv\u001b[0m\u001b[1;33m[\u001b[0m\u001b[1;36m0\u001b[0m\u001b[1;33m]\u001b[0m\u001b[1;33m[\u001b[0m\u001b[1;36m0\u001b[0m\u001b[1;33m]\u001b[0m\u001b[1;33m,\u001b[0m \u001b[0mv\u001b[0m\u001b[1;33m[\u001b[0m\u001b[1;36m1\u001b[0m\u001b[1;33m]\u001b[0m\u001b[1;33m[\u001b[0m\u001b[1;36m1\u001b[0m\u001b[1;33m]\u001b[0m\u001b[1;33m)\u001b[0m\u001b[1;33m\u001b[0m\u001b[1;33m\u001b[0m\u001b[0m\n\u001b[0m",
      "\u001b[1;31mKeyError\u001b[0m: 0"
     ]
    }
   ],
   "source": [
    "v = [\n",
    "    {'1':0, '2':1},\n",
    "    {'2':2, '1': 1, '0':0}\n",
    "]"
   ]
  },
  {
   "cell_type": "code",
   "execution_count": 16,
   "id": "affdeacf",
   "metadata": {},
   "outputs": [
    {
     "data": {
      "text/plain": [
       "20"
      ]
     },
     "execution_count": 16,
     "metadata": {},
     "output_type": "execute_result"
    }
   ],
   "source": [
    "a = [10, 20, 30]\n",
    "b = a\n",
    "a = a.copy()\n",
    "b[1] = 2\n",
    "a[1]"
   ]
  },
  {
   "cell_type": "markdown",
   "id": "823fe432",
   "metadata": {},
   "source": [
    "### Exercice 1 page 74"
   ]
  },
  {
   "cell_type": "code",
   "execution_count": 25,
   "id": "4f74f6b3",
   "metadata": {},
   "outputs": [],
   "source": [
    "def milieu(p1: float, p2: float) -> tuple:\n",
    "    \"\"\"\n",
    "        Fonction qui retourne les coordonnées du milieu\n",
    "        des deux points donnés en arguments.\n",
    "    \"\"\"\n",
    "    return ((p1[0] + p2[0]) / 2, (p1[1] + p2[1]) / 2)\n",
    "\n",
    "A = (1, 5)\n",
    "B =( 8, 12)\n",
    "assert milieu(A, B) == (4.5, 8.5), \"BUG\""
   ]
  },
  {
   "cell_type": "markdown",
   "id": "271b827a",
   "metadata": {},
   "source": [
    "### Exercice 3 page 74"
   ]
  },
  {
   "cell_type": "code",
   "execution_count": 28,
   "id": "d1d95744",
   "metadata": {},
   "outputs": [
    {
     "data": {
      "text/plain": [
       "('Elophe', 1977)"
      ]
     },
     "execution_count": 28,
     "metadata": {},
     "output_type": "execute_result"
    }
   ],
   "source": [
    "moi = (\n",
    "    (\"Olivier\", \"Elophe\"),\n",
    "    (2, 2, 1977)\n",
    ")\n",
    "\n",
    "def truc(personne: tuple) -> tuple:\n",
    "    \"\"\"\n",
    "        Prend une personne et retourne un tuple formé du nom et de l'année de naissance\n",
    "        >>> truc(((\"Olivier\", \"Elophe\"),(2, 2, 1977)))\n",
    "        (\"Elophe\", 1977)\n",
    "    \"\"\"\n",
    "    return personne[0][1], personne[1][2]\n",
    "truc(moi)"
   ]
  },
  {
   "cell_type": "markdown",
   "id": "021ac32d",
   "metadata": {},
   "source": [
    "### Exercice 6 page 74"
   ]
  },
  {
   "cell_type": "code",
   "execution_count": 35,
   "id": "600766c9",
   "metadata": {},
   "outputs": [
    {
     "data": {
      "text/plain": [
       "[([0, 0, 50, 100, 100],), ([0, 100, 150, 100, 0],)]"
      ]
     },
     "execution_count": 35,
     "metadata": {},
     "output_type": "execute_result"
    }
   ],
   "source": [
    "t = [(0, 0), (0, 100), (50, 150), (100, 100), (100, 0)]\n",
    "def unzip(tab):\n",
    "    tab0 = []\n",
    "    tab1 = []\n",
    "    for point in t:\n",
    "        tab0.append(point[0])\n",
    "        tab1.append(point[1])\n",
    "    return tab0, tab1\n",
    "unzip(t)    "
   ]
  },
  {
   "cell_type": "markdown",
   "id": "1f69289d",
   "metadata": {},
   "source": [
    "### Exercice 10 page 74"
   ]
  },
  {
   "cell_type": "code",
   "execution_count": 59,
   "id": "e8212c40",
   "metadata": {},
   "outputs": [],
   "source": [
    "\"\"\"\n",
    "isalnum()\tReturns True if all characters in the string are alphanumeric\n",
    "isalpha()\tReturns True if all characters in the string are in the alphabet\n",
    "isdigit()\tReturns True if all characters in the string are digits\n",
    "islower()\tReturns True if all characters in the string are lower case\n",
    "isnumeric()\tReturns True if all characters in the string are numeric\n",
    "isupper()\tReturns True if all characters in the string are upper case\n",
    "\"\"\"\n",
    "def verification(mdp: str) -> bool:\n",
    "    taille = numerique = alphabetique = minuscule = majuscule =  special = False\n",
    "    # Vérification de la longueur\n",
    "    if len(mdp) >= 8:\n",
    "        print(\"longueur OK.\")\n",
    "        taille = True            \n",
    "    else:\n",
    "        taille = False\n",
    "        return False\n",
    "    # vérification du chiffre\n",
    "    for caractere in mdp:\n",
    "        if caractere.isnumeric() and not numerique:\n",
    "            print(\"Chiffre, OK\")\n",
    "            numerique = True\n",
    "        elif caractere.isalpha() and not alphabetique:\n",
    "            print(\"Lettre, OK\")\n",
    "            alphabetique = True\n",
    "            if caractere.islower() and not minuscule:\n",
    "                print(\"Minuscule, OK\")\n",
    "                minuscule = True\n",
    "            else:\n",
    "                print(\"Majuscule, OK\")\n",
    "                majuscule = True\n",
    "        else:\n",
    "            print(\"Caractère special, OK\")\n",
    "            special = True\n",
    "    return taille and numerique and alphabetique and minuscule and majuscule and special\n",
    "    "
   ]
  },
  {
   "cell_type": "code",
   "execution_count": 61,
   "id": "44971f60",
   "metadata": {},
   "outputs": [
    {
     "name": "stdout",
     "output_type": "stream",
     "text": [
      "longueur OK.\n",
      "Chiffre, OK\n",
      "Caractère special, OK\n",
      "Caractère special, OK\n",
      "Caractère special, OK\n",
      "Caractère special, OK\n",
      "Lettre, OK\n",
      "Majuscule, OK\n",
      "Lettre, OK\n",
      "Minuscule, OK\n",
      "Lettre, OK\n",
      "Minuscule, OK\n"
     ]
    },
    {
     "data": {
      "text/plain": [
       "True"
      ]
     },
     "execution_count": 61,
     "metadata": {},
     "output_type": "execute_result"
    }
   ],
   "source": [
    "verification(\"12#34Zam\")\n",
    "\n",
    "\n"
   ]
  },
  {
   "cell_type": "code",
   "execution_count": 42,
   "id": "dc81d36f",
   "metadata": {},
   "outputs": [
    {
     "data": {
      "text/plain": [
       "4"
      ]
     },
     "execution_count": 42,
     "metadata": {},
     "output_type": "execute_result"
    }
   ],
   "source": [
    "a"
   ]
  },
  {
   "cell_type": "code",
   "execution_count": 43,
   "id": "60fd7f38",
   "metadata": {},
   "outputs": [
    {
     "data": {
      "text/plain": [
       "4"
      ]
     },
     "execution_count": 43,
     "metadata": {},
     "output_type": "execute_result"
    }
   ],
   "source": [
    "b"
   ]
  },
  {
   "cell_type": "code",
   "execution_count": 44,
   "id": "eff50626",
   "metadata": {},
   "outputs": [],
   "source": [
    "a = 1\n"
   ]
  },
  {
   "cell_type": "code",
   "execution_count": 45,
   "id": "51697cf0",
   "metadata": {},
   "outputs": [
    {
     "data": {
      "text/plain": [
       "4"
      ]
     },
     "execution_count": 45,
     "metadata": {},
     "output_type": "execute_result"
    }
   ],
   "source": [
    "b"
   ]
  },
  {
   "cell_type": "code",
   "execution_count": null,
   "id": "948d796b",
   "metadata": {},
   "outputs": [],
   "source": []
  }
 ],
 "metadata": {
  "kernelspec": {
   "display_name": "Python 3",
   "language": "python",
   "name": "python3"
  },
  "language_info": {
   "codemirror_mode": {
    "name": "ipython",
    "version": 3
   },
   "file_extension": ".py",
   "mimetype": "text/x-python",
   "name": "python",
   "nbconvert_exporter": "python",
   "pygments_lexer": "ipython3",
   "version": "3.8.8"
  }
 },
 "nbformat": 4,
 "nbformat_minor": 5
}
