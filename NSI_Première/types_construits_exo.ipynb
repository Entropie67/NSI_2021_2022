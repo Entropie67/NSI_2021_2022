{
 "cells": [
  {
   "cell_type": "markdown",
   "id": "0a7f233f",
   "metadata": {},
   "source": [
    "### Exercice :\n",
    "- QCM page 71\n",
    "- 1, 3, 6, 10, 13, 14 page 74\n",
    "- 15, 18, 19, 20 page 75\n",
    "- 21, 27, 30 et 39 page 77 et 78"
   ]
  },
  {
   "cell_type": "code",
   "execution_count": null,
   "id": "641c8822",
   "metadata": {},
   "outputs": [],
   "source": []
  }
 ],
 "metadata": {
  "kernelspec": {
   "display_name": "Python 3",
   "language": "python",
   "name": "python3"
  },
  "language_info": {
   "codemirror_mode": {
    "name": "ipython",
    "version": 3
   },
   "file_extension": ".py",
   "mimetype": "text/x-python",
   "name": "python",
   "nbconvert_exporter": "python",
   "pygments_lexer": "ipython3",
   "version": "3.8.8"
  }
 },
 "nbformat": 4,
 "nbformat_minor": 5
}
