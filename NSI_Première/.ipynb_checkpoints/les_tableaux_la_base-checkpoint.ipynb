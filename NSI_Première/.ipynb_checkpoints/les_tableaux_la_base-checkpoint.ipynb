{
 "cells": [
  {
   "cell_type": "code",
   "execution_count": 2,
   "id": "a0154280",
   "metadata": {},
   "outputs": [],
   "source": [
    "t = [2, 5, 7, 9]"
   ]
  },
  {
   "cell_type": "code",
   "execution_count": 9,
   "id": "1e4f6a37",
   "metadata": {},
   "outputs": [
    {
     "name": "stdout",
     "output_type": "stream",
     "text": [
      "Quelques valeurs :  2 7 9\n"
     ]
    }
   ],
   "source": [
    "print(\"Quelques valeurs : \",t[0], t[2], t[-1])"
   ]
  },
  {
   "cell_type": "code",
   "execution_count": 10,
   "id": "d20c2137",
   "metadata": {},
   "outputs": [
    {
     "data": {
      "text/plain": [
       "[5, 7]"
      ]
     },
     "execution_count": 10,
     "metadata": {},
     "output_type": "execute_result"
    }
   ],
   "source": [
    "t[1:3] # Dans [a:b] de a à b-1"
   ]
  },
  {
   "cell_type": "code",
   "execution_count": 11,
   "id": "96fb9e0b",
   "metadata": {},
   "outputs": [
    {
     "data": {
      "text/plain": [
       "[2, 5, 7]"
      ]
     },
     "execution_count": 11,
     "metadata": {},
     "output_type": "execute_result"
    }
   ],
   "source": [
    "t[:3]"
   ]
  },
  {
   "cell_type": "code",
   "execution_count": 12,
   "id": "8e4d2879",
   "metadata": {},
   "outputs": [
    {
     "data": {
      "text/plain": [
       "[2, 5, 7, 9]"
      ]
     },
     "execution_count": 12,
     "metadata": {},
     "output_type": "execute_result"
    }
   ],
   "source": [
    "t[:]"
   ]
  },
  {
   "cell_type": "code",
   "execution_count": 13,
   "id": "d96cab58",
   "metadata": {},
   "outputs": [
    {
     "data": {
      "text/plain": [
       "[7, 9]"
      ]
     },
     "execution_count": 13,
     "metadata": {},
     "output_type": "execute_result"
    }
   ],
   "source": [
    "t[2:]"
   ]
  },
  {
   "cell_type": "code",
   "execution_count": 15,
   "id": "c8f57085",
   "metadata": {},
   "outputs": [
    {
     "data": {
      "text/plain": [
       "[5, 7]"
      ]
     },
     "execution_count": 15,
     "metadata": {},
     "output_type": "execute_result"
    }
   ],
   "source": [
    "t[1:-1]"
   ]
  },
  {
   "cell_type": "code",
   "execution_count": 17,
   "id": "156f118e",
   "metadata": {},
   "outputs": [
    {
     "name": "stdout",
     "output_type": "stream",
     "text": [
      "2-5-7-9-"
     ]
    }
   ],
   "source": [
    "for elt in t:\n",
    "    print(elt, end=\"-\")"
   ]
  },
  {
   "cell_type": "code",
   "execution_count": 18,
   "id": "fa0106ef",
   "metadata": {},
   "outputs": [
    {
     "name": "stdout",
     "output_type": "stream",
     "text": [
      "2-5-7-9-"
     ]
    }
   ],
   "source": [
    "for i in range(len(t)):\n",
    "    print(t[i], end=\"-\")"
   ]
  },
  {
   "cell_type": "code",
   "execution_count": 22,
   "id": "88491a14",
   "metadata": {},
   "outputs": [
    {
     "name": "stdout",
     "output_type": "stream",
     "text": [
      "5-9-"
     ]
    }
   ],
   "source": [
    "for i in range(1, len(t), 2):\n",
    "    print(t[i], end=\"-\")"
   ]
  },
  {
   "cell_type": "code",
   "execution_count": 24,
   "id": "60283c52",
   "metadata": {},
   "outputs": [
    {
     "name": "stdout",
     "output_type": "stream",
     "text": [
      "(0, 2)\n",
      "(1, 5)\n",
      "(2, 7)\n",
      "(3, 9)\n"
     ]
    }
   ],
   "source": [
    "for e in enumerate(t):\n",
    "    print(e)"
   ]
  },
  {
   "cell_type": "code",
   "execution_count": 26,
   "id": "02d50543",
   "metadata": {},
   "outputs": [
    {
     "name": "stdout",
     "output_type": "stream",
     "text": [
      "0 2\n",
      "1 5\n",
      "2 7\n",
      "3 9\n"
     ]
    }
   ],
   "source": [
    "for indice, valeur in enumerate(t):\n",
    "    print(indice, valeur)"
   ]
  },
  {
   "cell_type": "code",
   "execution_count": 27,
   "id": "52d54ece",
   "metadata": {},
   "outputs": [],
   "source": [
    "notes = [2, 4, 6, 12, 2, 15, 20]"
   ]
  },
  {
   "cell_type": "code",
   "execution_count": 33,
   "id": "7e205c01",
   "metadata": {},
   "outputs": [
    {
     "data": {
      "text/plain": [
       "8.714285714285714"
      ]
     },
     "execution_count": 33,
     "metadata": {},
     "output_type": "execute_result"
    }
   ],
   "source": [
    "# Alternative compliquée (pas à retenir pour le moment) :\n",
    "f = lambda l: sum(l)/len(l)\n",
    "f(notes)"
   ]
  },
  {
   "cell_type": "code",
   "execution_count": 30,
   "id": "15524c08",
   "metadata": {},
   "outputs": [
    {
     "data": {
      "text/plain": [
       "8.714285714285714"
      ]
     },
     "execution_count": 30,
     "metadata": {},
     "output_type": "execute_result"
    }
   ],
   "source": [
    "def moyenne(tab: list) -> float:\n",
    "    somme = 0\n",
    "    for note in tab:\n",
    "        somme = somme + note # somme += note\n",
    "    nb_notes = len(tab)\n",
    "    return somme / nb_notes\n",
    "moyenne(notes)"
   ]
  },
  {
   "cell_type": "code",
   "execution_count": 40,
   "id": "458a4200",
   "metadata": {},
   "outputs": [
    {
     "data": {
      "text/plain": [
       "True"
      ]
     },
     "execution_count": 40,
     "metadata": {},
     "output_type": "execute_result"
    }
   ],
   "source": [
    "mot = \"bouiuob\"\n",
    "def is_palindrome(text: str) -> bool:\n",
    "    for i in range(len(text)):\n",
    "        if text[i] != text[len(text) -i - 1]:\n",
    "            return False\n",
    "    return True\n",
    "\n",
    "is_palindrome(mot)    "
   ]
  },
  {
   "cell_type": "code",
   "execution_count": 46,
   "id": "cc5173ff",
   "metadata": {},
   "outputs": [
    {
     "name": "stdout",
     "output_type": "stream",
     "text": [
      "n\n",
      "i\n",
      "p\n",
      "a\n",
      "l\n"
     ]
    }
   ],
   "source": [
    "# Parcourir à l'envers\n",
    "mot = \"lapin\"\n",
    "for i in range(len(mot)-1, -1, -1):\n",
    "    print(mot[i])"
   ]
  },
  {
   "cell_type": "code",
   "execution_count": 45,
   "id": "039f6ea3",
   "metadata": {},
   "outputs": [
    {
     "name": "stdout",
     "output_type": "stream",
     "text": [
      "n\n",
      "i\n",
      "p\n",
      "a\n",
      "l\n"
     ]
    }
   ],
   "source": [
    "# Parcourir à l'envers\n",
    "for i in range(len(mot)):\n",
    "    print(mot[len(mot) - i - 1])"
   ]
  },
  {
   "cell_type": "code",
   "execution_count": null,
   "id": "4054ca3a",
   "metadata": {},
   "outputs": [],
   "source": []
  }
 ],
 "metadata": {
  "kernelspec": {
   "display_name": "Python 3",
   "language": "python",
   "name": "python3"
  },
  "language_info": {
   "codemirror_mode": {
    "name": "ipython",
    "version": 3
   },
   "file_extension": ".py",
   "mimetype": "text/x-python",
   "name": "python",
   "nbconvert_exporter": "python",
   "pygments_lexer": "ipython3",
   "version": "3.8.8"
  }
 },
 "nbformat": 4,
 "nbformat_minor": 5
}
