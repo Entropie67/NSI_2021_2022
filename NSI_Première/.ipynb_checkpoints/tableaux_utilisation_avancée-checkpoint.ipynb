{
 "cells": [
  {
   "cell_type": "markdown",
   "id": "eb8bb2c4",
   "metadata": {},
   "source": [
    "# Les listes en compréhension"
   ]
  },
  {
   "cell_type": "code",
   "execution_count": 20,
   "id": "74693009",
   "metadata": {},
   "outputs": [],
   "source": [
    "# Le double de i pour i allant de 0 à 9\n",
    "liste1 = [2 * i for i in range(10)]\n",
    "# les carrés des nombres jusqu\"à 100\n",
    "liste1bis = [i**2 for i in range(1, 101)]\n",
    "# les nombres de 0 à 49 sauf les multiples de 3\n",
    "liste2 = [i for i in range(50) if not i%3 == 0]\n",
    "# Les lettres d'un mot saug les voyelles\n",
    "liste3 = [l for l in \"La tortue mange du riz\" if l not in \"aeiouy\"]\n",
    "# les lettres d'un mot mais les \"a\" sont remplacés par des \"@\"\n",
    "liste4 = [l if l != \"a\" else \"@\" for l in \"pistache\"]\n",
    "# Une liste avec que des 0\n",
    "liste5 = [0 for _ in range(30)]\n",
    "# Une liste avec des nombres aléatoires :\n",
    "from random import randint\n",
    "liste6 = [randint(1, 6) for _ in range(50)]\n",
    "# Exemple (à ne pas retenir) (Difficile)\n",
    "liste7 = [(lambda x: x**3 - 3)(i) for i in range(12)]"
   ]
  },
  {
   "cell_type": "code",
   "execution_count": 30,
   "id": "759d897d",
   "metadata": {},
   "outputs": [
    {
     "data": {
      "text/plain": [
       "[2, 3, 42, 63]"
      ]
     },
     "execution_count": 30,
     "metadata": {},
     "output_type": "execute_result"
    }
   ],
   "source": [
    "liste = [2, 6, 3, 42]\n",
    "liste2 = [2, 63, 3, 42]\n",
    "len(liste) # taille de la liste\n",
    "liste.append(4) # ajoute 4 à la fin de la liste\n",
    "liste.pop() # retourne et enlève le dernier\n",
    "liste.sort() # La liste est triée, la liste est modifiée\n",
    "sorted(liste2) # Retourne la liste triée sans modifier ma liste"
   ]
  },
  {
   "cell_type": "code",
   "execution_count": null,
   "id": "14af7779",
   "metadata": {},
   "outputs": [],
   "source": [
    "def recherche(tab: list, n: int) -> bool:\n",
    "    \n",
    "    "
   ]
  }
 ],
 "metadata": {
  "kernelspec": {
   "display_name": "Python 3",
   "language": "python",
   "name": "python3"
  },
  "language_info": {
   "codemirror_mode": {
    "name": "ipython",
    "version": 3
   },
   "file_extension": ".py",
   "mimetype": "text/x-python",
   "name": "python",
   "nbconvert_exporter": "python",
   "pygments_lexer": "ipython3",
   "version": "3.8.8"
  }
 },
 "nbformat": 4,
 "nbformat_minor": 5
}
