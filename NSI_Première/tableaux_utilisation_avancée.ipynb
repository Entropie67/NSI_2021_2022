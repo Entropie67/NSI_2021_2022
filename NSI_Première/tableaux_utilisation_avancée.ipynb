{
 "cells": [
  {
   "cell_type": "markdown",
   "id": "8ad502db",
   "metadata": {},
   "source": [
    "# Les listes en compréhension"
   ]
  },
  {
   "cell_type": "code",
   "execution_count": 20,
   "id": "ebaac73b",
   "metadata": {},
   "outputs": [],
   "source": [
    "# Le double de i pour i allant de 0 à 9\n",
    "liste1 = [2 * i for i in range(10)]\n",
    "# les carrés des nombres jusqu\"à 100\n",
    "liste1bis = [i**2 for i in range(1, 101)]\n",
    "# les nombres de 0 à 49 sauf les multiples de 3\n",
    "liste2 = [i for i in range(50) if not i%3 == 0]\n",
    "# Les lettres d'un mot saug les voyelles\n",
    "liste3 = [l for l in \"La tortue mange du riz\" if l not in \"aeiouy\"]\n",
    "# les lettres d'un mot mais les \"a\" sont remplacés par des \"@\"\n",
    "liste4 = [l if l != \"a\" else \"@\" for l in \"pistache\"]\n",
    "# Une liste avec que des 0\n",
    "liste5 = [0 for _ in range(30)]\n",
    "# Une liste avec des nombres aléatoires :\n",
    "from random import randint\n",
    "liste6 = [randint(1, 6) for _ in range(50)]\n",
    "# Exemple (à ne pas retenir) (Difficile)\n",
    "liste7 = [(lambda x: x**3 - 3)(i) for i in range(12)]"
   ]
  },
  {
   "cell_type": "code",
   "execution_count": 30,
   "id": "3358d3e9",
   "metadata": {},
   "outputs": [
    {
     "data": {
      "text/plain": [
       "[2, 3, 42, 63]"
      ]
     },
     "execution_count": 30,
     "metadata": {},
     "output_type": "execute_result"
    }
   ],
   "source": [
    "liste = [2, 6, 3, 42]\n",
    "liste2 = [2, 63, 3, 42]\n",
    "len(liste) # taille de la liste\n",
    "liste.append(4) # ajoute 4 à la fin de la liste\n",
    "liste.pop() # retourne et enlève le dernier\n",
    "liste.sort() # La liste est triée, la liste est modifiée\n",
    "sorted(liste2) # Retourne la liste triée sans modifier ma liste"
   ]
  },
  {
   "cell_type": "code",
   "execution_count": null,
   "id": "04582827",
   "metadata": {},
   "outputs": [],
   "source": [
    "def recherche(tab: list, n: int) -> bool:\n",
    "    for i in tab:\n",
    "        if i == n:\n",
    "            return True\n",
    "    return False\n",
    "\n",
    "\n",
    "    "
   ]
  },
  {
   "cell_type": "code",
   "execution_count": 7,
   "id": "1e44346e",
   "metadata": {},
   "outputs": [
    {
     "name": "stdout",
     "output_type": "stream",
     "text": [
      "[['a', 'a'], ['a', 'a']]\n",
      "[['a', 'c'], ['a', 'c']]\n"
     ]
    }
   ],
   "source": [
    "# Exercice 12 page 93\n",
    "a = ['a', 'a']\n",
    "t = [a, a]\n",
    "print(t)\n",
    "t[0][1] = 'c'\n",
    "print(t)\n",
    "\n"
   ]
  },
  {
   "cell_type": "code",
   "execution_count": 10,
   "id": "b418dc8a",
   "metadata": {},
   "outputs": [
    {
     "data": {
      "text/plain": [
       "0"
      ]
     },
     "execution_count": 10,
     "metadata": {},
     "output_type": "execute_result"
    }
   ],
   "source": [
    "t = [42, 36, 1, 8, 7, 0, 5]\n",
    " # Parcours par élément, pas pratique pour obtenir l'indice\n",
    "def minimum(tab):\n",
    "    mini = tab[0]\n",
    "    for elt in t:\n",
    "        if elt < mini:\n",
    "            mini = elt\n",
    "    return mini\n",
    "        \n",
    "minimum(t)"
   ]
  },
  {
   "cell_type": "code",
   "execution_count": 12,
   "id": "6f27d387",
   "metadata": {},
   "outputs": [
    {
     "data": {
      "text/plain": [
       "(5, 0)"
      ]
     },
     "execution_count": 12,
     "metadata": {},
     "output_type": "execute_result"
    }
   ],
   "source": [
    "def minimum_indice(tab):\n",
    "    mini = 0\n",
    "    for i in range(len(tab)):\n",
    "        if tab[i] < tab[mini]:\n",
    "            mini = i\n",
    "    return mini\n",
    "        \n",
    "minimum_indice(t)"
   ]
  },
  {
   "cell_type": "markdown",
   "id": "5ac3b40c",
   "metadata": {},
   "source": [
    "## Matrice"
   ]
  },
  {
   "cell_type": "code",
   "execution_count": 16,
   "id": "cc419a53",
   "metadata": {},
   "outputs": [],
   "source": [
    "matrice = [\n",
    "    [1, 2],\n",
    "    [3, 4],\n",
    "    [5, 6]\n",
    "]\n",
    "matrice[1][0] # 3"
   ]
  },
  {
   "cell_type": "code",
   "execution_count": 18,
   "id": "f1be3608",
   "metadata": {},
   "outputs": [
    {
     "name": "stdout",
     "output_type": "stream",
     "text": [
      "1\n",
      "2\n",
      "3\n",
      "4\n",
      "5\n",
      "6\n"
     ]
    }
   ],
   "source": [
    "for i in range(len(matrice)):\n",
    "    for j in range(len(matrice[i])):\n",
    "        print(matrice[i][j])\n",
    "    "
   ]
  },
  {
   "cell_type": "code",
   "execution_count": 19,
   "id": "35a93202",
   "metadata": {},
   "outputs": [],
   "source": [
    "A = [\n",
    "    [3, 5, 7],\n",
    "    [7, 9, 2],\n",
    "    [1, 0, 1]\n",
    "]\n",
    "B = [\n",
    "    [5, 7, 8],\n",
    "    [1, 9, 6],\n",
    "    [1, 3, 1]\n",
    "]"
   ]
  },
  {
   "cell_type": "code",
   "execution_count": 29,
   "id": "7ac4ff99",
   "metadata": {},
   "outputs": [
    {
     "name": "stdout",
     "output_type": "stream",
     "text": [
      "[[8, 12, 0], [8, 18, 0], [2, 3, 0]]\n"
     ]
    }
   ],
   "source": [
    "# A + B\n",
    "def addition(matrice1, matrice2):\n",
    "    n = len(matrice1)\n",
    "    S = [[0] * n for i in range(n)]\n",
    "    for i in range(len(matrice)):\n",
    "        for j in range(len(matrice[i])):\n",
    "            S[i][j] = matrice1[i][j] + matrice2[i][j]\n",
    "    return S\n",
    "addition(A, B)"
   ]
  },
  {
   "cell_type": "code",
   "execution_count": 21,
   "id": "1aab75bd",
   "metadata": {},
   "outputs": [],
   "source": [
    "s = [[0] * 3 for i in range(3)]"
   ]
  },
  {
   "cell_type": "code",
   "execution_count": 22,
   "id": "acddc181",
   "metadata": {},
   "outputs": [
    {
     "data": {
      "text/plain": [
       "[[0, 0, 0], [0, 0, 0], [0, 0, 0]]"
      ]
     },
     "execution_count": 22,
     "metadata": {},
     "output_type": "execute_result"
    }
   ],
   "source": [
    "s"
   ]
  },
  {
   "cell_type": "code",
   "execution_count": 23,
   "id": "7231433d",
   "metadata": {},
   "outputs": [],
   "source": [
    "s[0][1] = 2"
   ]
  },
  {
   "cell_type": "code",
   "execution_count": 24,
   "id": "5ba3c2cf",
   "metadata": {},
   "outputs": [
    {
     "data": {
      "text/plain": [
       "[[0, 2, 0], [0, 0, 0], [0, 0, 0]]"
      ]
     },
     "execution_count": 24,
     "metadata": {},
     "output_type": "execute_result"
    }
   ],
   "source": [
    "s"
   ]
  },
  {
   "cell_type": "code",
   "execution_count": null,
   "id": "5395b270",
   "metadata": {},
   "outputs": [],
   "source": []
  }
 ],
 "metadata": {
  "kernelspec": {
   "display_name": "Python 3",
   "language": "python",
   "name": "python3"
  },
  "language_info": {
   "codemirror_mode": {
    "name": "ipython",
    "version": 3
   },
   "file_extension": ".py",
   "mimetype": "text/x-python",
   "name": "python",
   "nbconvert_exporter": "python",
   "pygments_lexer": "ipython3",
   "version": "3.8.8"
  }
 },
 "nbformat": 4,
 "nbformat_minor": 5
}
