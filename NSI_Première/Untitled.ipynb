{
 "cells": [
  {
   "cell_type": "code",
   "execution_count": 2,
   "id": "5fca8d05",
   "metadata": {},
   "outputs": [],
   "source": [
    "t = [2, 5, 7, 9]"
   ]
  },
  {
   "cell_type": "code",
   "execution_count": 9,
   "id": "921bd080",
   "metadata": {},
   "outputs": [
    {
     "name": "stdout",
     "output_type": "stream",
     "text": [
      "Quelques valeurs :  2 7 9\n"
     ]
    }
   ],
   "source": [
    "print(\"Quelques valeurs : \",t[0], t[2], t[-1])"
   ]
  },
  {
   "cell_type": "code",
   "execution_count": 10,
   "id": "8e760c0c",
   "metadata": {},
   "outputs": [
    {
     "data": {
      "text/plain": [
       "[5, 7]"
      ]
     },
     "execution_count": 10,
     "metadata": {},
     "output_type": "execute_result"
    }
   ],
   "source": [
    "t[1:3] # Dans [a:b] de a à b-1"
   ]
  },
  {
   "cell_type": "code",
   "execution_count": 11,
   "id": "0f22b384",
   "metadata": {},
   "outputs": [
    {
     "data": {
      "text/plain": [
       "[2, 5, 7]"
      ]
     },
     "execution_count": 11,
     "metadata": {},
     "output_type": "execute_result"
    }
   ],
   "source": [
    "t[:3]"
   ]
  },
  {
   "cell_type": "code",
   "execution_count": 12,
   "id": "335f34c5",
   "metadata": {},
   "outputs": [
    {
     "data": {
      "text/plain": [
       "[2, 5, 7, 9]"
      ]
     },
     "execution_count": 12,
     "metadata": {},
     "output_type": "execute_result"
    }
   ],
   "source": [
    "t[:]"
   ]
  },
  {
   "cell_type": "code",
   "execution_count": 13,
   "id": "a68f020f",
   "metadata": {},
   "outputs": [
    {
     "data": {
      "text/plain": [
       "[7, 9]"
      ]
     },
     "execution_count": 13,
     "metadata": {},
     "output_type": "execute_result"
    }
   ],
   "source": [
    "t[2:]"
   ]
  },
  {
   "cell_type": "code",
   "execution_count": 15,
   "id": "f6244960",
   "metadata": {},
   "outputs": [
    {
     "data": {
      "text/plain": [
       "[5, 7]"
      ]
     },
     "execution_count": 15,
     "metadata": {},
     "output_type": "execute_result"
    }
   ],
   "source": [
    "t[1:-1]"
   ]
  },
  {
   "cell_type": "code",
   "execution_count": 17,
   "id": "317b04f5",
   "metadata": {},
   "outputs": [
    {
     "name": "stdout",
     "output_type": "stream",
     "text": [
      "2-5-7-9-"
     ]
    }
   ],
   "source": [
    "for elt in t:\n",
    "    print(elt, end=\"-\")"
   ]
  },
  {
   "cell_type": "code",
   "execution_count": 18,
   "id": "abd4ff6b",
   "metadata": {},
   "outputs": [
    {
     "name": "stdout",
     "output_type": "stream",
     "text": [
      "2-5-7-9-"
     ]
    }
   ],
   "source": [
    "for i in range(len(t)):\n",
    "    print(t[i], end=\"-\")"
   ]
  },
  {
   "cell_type": "code",
   "execution_count": 22,
   "id": "380ab4c3",
   "metadata": {},
   "outputs": [
    {
     "name": "stdout",
     "output_type": "stream",
     "text": [
      "5-9-"
     ]
    }
   ],
   "source": [
    "for i in range(1, len(t), 2):\n",
    "    print(t[i], end=\"-\")"
   ]
  },
  {
   "cell_type": "code",
   "execution_count": 24,
   "id": "205e69a8",
   "metadata": {},
   "outputs": [
    {
     "name": "stdout",
     "output_type": "stream",
     "text": [
      "(0, 2)\n",
      "(1, 5)\n",
      "(2, 7)\n",
      "(3, 9)\n"
     ]
    }
   ],
   "source": [
    "for e in enumerate(t):\n",
    "    print(e)"
   ]
  },
  {
   "cell_type": "code",
   "execution_count": 26,
   "id": "a12ade9b",
   "metadata": {},
   "outputs": [
    {
     "name": "stdout",
     "output_type": "stream",
     "text": [
      "0 2\n",
      "1 5\n",
      "2 7\n",
      "3 9\n"
     ]
    }
   ],
   "source": [
    "for indice, valeur in enumerate(t):\n",
    "    print(indice, valeur)"
   ]
  },
  {
   "cell_type": "code",
   "execution_count": 27,
   "id": "28d6aa0c",
   "metadata": {},
   "outputs": [],
   "source": [
    "notes = [2, 4, 6, 12, 2, 15, 20]"
   ]
  },
  {
   "cell_type": "code",
   "execution_count": 33,
   "id": "f2139d59",
   "metadata": {},
   "outputs": [
    {
     "data": {
      "text/plain": [
       "8.714285714285714"
      ]
     },
     "execution_count": 33,
     "metadata": {},
     "output_type": "execute_result"
    }
   ],
   "source": [
    "# Alternative compliquée (pas à retenir pour le moment) :\n",
    "f = lambda l: sum(l)/len(l)\n",
    "f(notes)"
   ]
  },
  {
   "cell_type": "code",
   "execution_count": 30,
   "id": "97991822",
   "metadata": {},
   "outputs": [
    {
     "data": {
      "text/plain": [
       "8.714285714285714"
      ]
     },
     "execution_count": 30,
     "metadata": {},
     "output_type": "execute_result"
    }
   ],
   "source": [
    "def moyenne(tab: list) -> float:\n",
    "    somme = 0\n",
    "    for note in tab:\n",
    "        somme = somme + note # somme += note\n",
    "    nb_notes = len(tab)\n",
    "    return somme / nb_notes\n",
    "moyenne(notes)"
   ]
  },
  {
   "cell_type": "code",
   "execution_count": 40,
   "id": "6b759bf8",
   "metadata": {},
   "outputs": [
    {
     "data": {
      "text/plain": [
       "True"
      ]
     },
     "execution_count": 40,
     "metadata": {},
     "output_type": "execute_result"
    }
   ],
   "source": [
    "mot = \"bouiuob\"\n",
    "def is_palindrome(text: str) -> bool:\n",
    "    for i in range(len(text)):\n",
    "        if text[i] != text[len(text) -i - 1]:\n",
    "            return False\n",
    "    return True\n",
    "\n",
    "is_palindrome(mot)    "
   ]
  },
  {
   "cell_type": "code",
   "execution_count": 46,
   "id": "818eee51",
   "metadata": {},
   "outputs": [
    {
     "name": "stdout",
     "output_type": "stream",
     "text": [
      "n\n",
      "i\n",
      "p\n",
      "a\n",
      "l\n"
     ]
    }
   ],
   "source": [
    "# Parcourir à l'envers\n",
    "mot = \"lapin\"\n",
    "for i in range(len(mot)-1, -1, -1):\n",
    "    print(mot[i])"
   ]
  },
  {
   "cell_type": "code",
   "execution_count": 45,
   "id": "5bc02a28",
   "metadata": {},
   "outputs": [
    {
     "name": "stdout",
     "output_type": "stream",
     "text": [
      "n\n",
      "i\n",
      "p\n",
      "a\n",
      "l\n"
     ]
    }
   ],
   "source": [
    "# Parcourir à l'envers\n",
    "for i in range(len(mot)):\n",
    "    print(mot[len(mot) - i - 1])"
   ]
  },
  {
   "cell_type": "code",
   "execution_count": null,
   "id": "d8cddd3b",
   "metadata": {},
   "outputs": [],
   "source": []
  }
 ],
 "metadata": {
  "kernelspec": {
   "display_name": "Python 3",
   "language": "python",
   "name": "python3"
  },
  "language_info": {
   "codemirror_mode": {
    "name": "ipython",
    "version": 3
   },
   "file_extension": ".py",
   "mimetype": "text/x-python",
   "name": "python",
   "nbconvert_exporter": "python",
   "pygments_lexer": "ipython3",
   "version": "3.8.8"
  }
 },
 "nbformat": 4,
 "nbformat_minor": 5
}
