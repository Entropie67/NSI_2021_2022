{
 "cells": [
  {
   "cell_type": "markdown",
   "id": "0536f207",
   "metadata": {},
   "source": [
    "Les variables peuvent être de différents types : \n",
    "```Python\n",
    "int, float, str, bool\n",
    "```\n",
    "On besoin d'opérateurs : \n",
    "```Python\n",
    "+, -, /, *, **, //, %\n",
    "```\n",
    "On besoin d'E/S (entrées, sorties) :\n",
    "```Python\n",
    "print, input\n",
    "```\n",
    "\n"
   ]
  },
  {
   "cell_type": "markdown",
   "id": "58162f30",
   "metadata": {},
   "source": [
    "## Les conditions :\n",
    "```Python\n",
    "if condition:\n",
    "    Le truc à faire\n",
    "elif une autre condition:\n",
    "    un autre truc à faire\n",
    "else:\n",
    "    Le truc à faire sinon\n",
    "```\n",
    "### Voici un exemple complet avec des conditions :"
   ]
  },
  {
   "cell_type": "code",
   "execution_count": 6,
   "id": "c19880e3",
   "metadata": {},
   "outputs": [
    {
     "name": "stdout",
     "output_type": "stream",
     "text": [
      "Quel est ton âge ? -45\n",
      "Tu as -45 ans\n",
      "Dsl, cela ne va pas être possible.\n"
     ]
    }
   ],
   "source": [
    "# On demande l'âge de l'utilisateur avec input\n",
    "age = int(input(\"Quel est ton âge ? \"))\n",
    "# On vérifie qu'on a bien l'âge de l'utilisateur\n",
    "print(f\"Tu as {age} ans\")\n",
    "if age < 12 and age > 0:\n",
    "    print(\"Dsl, cela ne va pas être possible.\")\n",
    "elif age >= 12 and age < 150:\n",
    "    print(\"Ok, c'est bon, entre.\")\n",
    "else:\n",
    "    print(\"Age invalide. Tu devrais prendre ton traitement.\")\n",
    "\n",
    "    \n"
   ]
  },
  {
   "cell_type": "markdown",
   "id": "35c99670",
   "metadata": {},
   "source": [
    "Des boucles :\n",
    "```Python\n",
    "# Avec While\n",
    "while condition:\n",
    "    truc à répéter\n",
    "# Avec for :\n",
    "for i in range(n):\n",
    "    truc répété n fois\n",
    "    \n",
    "```\n",
    "Ecrivez un programme qui demande un nombre et une phrase et qui répère cette phrase\n",
    "nombre de fois."
   ]
  },
  {
   "cell_type": "code",
   "execution_count": 12,
   "id": "bb6ff7f1",
   "metadata": {},
   "outputs": [
    {
     "name": "stdout",
     "output_type": "stream",
     "text": [
      "Combien de fois tu veux que je répète ?99999999999999999999999\n",
      "Quelle est la phrase que je dois répéter ?coucou\n",
      "Ok, tu veux que je répète 99999999999999999999999 fois, la phrase : 'coucou'\n"
     ]
    }
   ],
   "source": [
    "nombre = int(input(\"Combien de fois tu veux que je répète ?\"))\n",
    "phrase = input(\"Quelle est la phrase que je dois répéter ?\")\n",
    "print(f\"Ok, tu veux que je répète {nombre} fois, la phrase : '{phrase}'\")\n",
    "for i in range(nombre):\n",
    "    print(phrase)"
   ]
  },
  {
   "cell_type": "code",
   "execution_count": 14,
   "id": "8cc75087",
   "metadata": {},
   "outputs": [
    {
     "name": "stdout",
     "output_type": "stream",
     "text": [
      "Quel est le nombre secret ? 50\n",
      "Trop petit !!\n",
      "Quel est le nombre secret ? 75\n",
      "Trop grand !!!\n",
      "Quel est le nombre secret ? 63\n",
      "Trop grand !!!\n",
      "Quel est le nombre secret ? 57\n",
      "Trop grand !!!\n",
      "Quel est le nombre secret ? 54\n",
      "\n",
      "############# Bravo ! #############\n",
      "\n"
     ]
    }
   ],
   "source": [
    "from random import randint\n",
    "secret = randint(0, 100)\n",
    "proposition = -1\n",
    "while proposition != secret:\n",
    "    proposition = int(input(\"Quel est le nombre secret ? \"))\n",
    "    if proposition < secret:\n",
    "        print(\"Trop petit !!\")\n",
    "    elif proposition > secret:\n",
    "        print(\"Trop grand !!!\")\n",
    "    else:\n",
    "        print(\"\\n############# Bravo ! #############\\n\")"
   ]
  },
  {
   "cell_type": "code",
   "execution_count": null,
   "id": "4215a687",
   "metadata": {},
   "outputs": [],
   "source": []
  }
 ],
 "metadata": {
  "kernelspec": {
   "display_name": "Python 3",
   "language": "python",
   "name": "python3"
  },
  "language_info": {
   "codemirror_mode": {
    "name": "ipython",
    "version": 3
   },
   "file_extension": ".py",
   "mimetype": "text/x-python",
   "name": "python",
   "nbconvert_exporter": "python",
   "pygments_lexer": "ipython3",
   "version": "3.8.8"
  }
 },
 "nbformat": 4,
 "nbformat_minor": 5
}
